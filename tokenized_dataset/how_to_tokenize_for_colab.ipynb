{
 "cells": [
  {
   "cell_type": "code",
   "execution_count": null,
   "metadata": {},
   "outputs": [],
   "source": [
    "!cat /content/ynat_train.tsv | awk -F'\\t' '{ print $2 }' | mecab -O wakati > /content/tmp.txt\n",
    "!cat /content/ynat_train.tsv | awk -F'\\t' '{ print $1 }' > /content/tmp_class.txt\n",
    "!paste /content/tmp_class.txt /content/tmp.txt > /content/ynat_train_corpus.txt\n",
    "!rm /content/tmp.txt /content/tmp_class.txt"
   ]
  },
  {
   "cell_type": "code",
   "execution_count": null,
   "metadata": {},
   "outputs": [],
   "source": [
    "!cat /content/ynat_test.tsv | awk -F'\\t' '{ print $2 }' | mecab -O wakati > /content/tmp.txt\n",
    "!cat /content/ynat_test.tsv | awk -F'\\t' '{ print $1 }' > /content/tmp_class.txt\n",
    "!paste /content/tmp_class.txt /content/tmp.txt > /content/ynat_test_corpus.txt\n",
    "!rm /content/tmp.txt /content/tmp_class.txt"
   ]
  },
  {
   "cell_type": "code",
   "execution_count": null,
   "metadata": {},
   "outputs": [],
   "source": [
    "!cat /content/mil_train.tsv | awk -F'\\t' '{ print $2 }' | mecab -O wakati > /content/tmp.txt\n",
    "!cat /content/mil_train.tsv | awk -F'\\t' '{ print $1 }' > /content/tmp_class.txt\n",
    "!paste /content/tmp_class.txt /content/tmp.txt > /content/mil_train_corpus.txt\n",
    "!rm /content/tmp.txt /content/tmp_class.txt"
   ]
  },
  {
   "cell_type": "code",
   "execution_count": null,
   "metadata": {},
   "outputs": [],
   "source": [
    "!cat /content/mil_test.tsv | awk -F'\\t' '{ print $2 }' | mecab -O wakati > /content/tmp.txt\n",
    "!cat /content/mil_test.tsv | awk -F'\\t' '{ print $1 }' > /content/tmp_class.txt\n",
    "!paste /content/tmp_class.txt /content/tmp.txt > /content/mil_test.txt\n",
    "!rm /content/tmp.txt /content/tmp_class.txt"
   ]
  },
  {
   "cell_type": "code",
   "execution_count": null,
   "metadata": {},
   "outputs": [],
   "source": [
    "!pip install konlpy\n",
    "\n",
    "from konlpy.tag import Mecab\n",
    "!git clone https://github.com/SOMJANG/Mecab-ko-for-Google-Colab.git\n",
    "%cd Mecab-ko-for-Google-Colab/\n",
    "!bash install_mecab-ko_on_colab190912.sh"
   ]
  }
 ],
 "metadata": {
  "kernelspec": {
   "display_name": "tc_test",
   "language": "python",
   "name": "python3"
  },
  "language_info": {
   "codemirror_mode": {
    "name": "ipython",
    "version": 3
   },
   "file_extension": ".py",
   "mimetype": "text/x-python",
   "name": "python",
   "nbconvert_exporter": "python",
   "pygments_lexer": "ipython3",
   "version": "3.10.14"
  }
 },
 "nbformat": 4,
 "nbformat_minor": 2
}
